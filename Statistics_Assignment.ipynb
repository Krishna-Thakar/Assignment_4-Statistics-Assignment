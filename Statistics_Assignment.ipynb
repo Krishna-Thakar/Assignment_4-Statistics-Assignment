{
  "nbformat": 4,
  "nbformat_minor": 0,
  "metadata": {
    "colab": {
      "provenance": []
    },
    "kernelspec": {
      "name": "python3",
      "display_name": "Python 3"
    },
    "language_info": {
      "name": "python"
    }
  },
  "cells": [
    {
      "cell_type": "markdown",
      "source": [
        "***Statistics Assignment***"
      ],
      "metadata": {
        "id": "yqu8__z7hlmt"
      }
    },
    {
      "cell_type": "markdown",
      "source": [
        "question 1 =  Generate a list of 100 integers containing values between 90 to 130 and store it in the variable `int_list`.\n",
        "After generating the list, find the following:\n",
        "\n",
        " (i) Write a Python function to calculate the mean of a given list of numbers.\n",
        " Create a function to find the median of a list of numbers.\n",
        "\n",
        " (ii) Develop a program to compute the mode of a list of integers.\n",
        "\n",
        " (iii) Implement a function to calculate the weighted mean of a list of values and their corresponding weights.\n",
        "\n",
        " (iv) Write a Python function to find the geometric mean of a list of positive numbers.\n",
        "\n",
        " (v) Create a program to calculate the harmonic mean of a list of values.\n",
        "\n",
        " (vi) Build a function to determine the midrange of a list of numbers (average of the minimum and maximum).\n",
        "\n",
        " (vii) Implement a Python program to find the trimmed mean of a list, excluding a certain percentage of\n",
        "outliers.\n",
        "\n"
      ],
      "metadata": {
        "id": "fbveioI3h26y"
      }
    },
    {
      "cell_type": "code",
      "source": [
        "import numpy as np\n",
        "import statistics as stats\n",
        "\n",
        "int_list = np.random.randint(90, 131, size=100).tolist()\n",
        "print(\"Generated list:\", int_list)\n",
        "\n",
        "# (i) Calculate the Mean and Median\n",
        "def calculate_mean(numbers):\n",
        "    return np.mean(numbers)\n",
        "\n",
        "def calculate_median(numbers):\n",
        "    return np.median(numbers)\n",
        "\n",
        "mean_value = calculate_mean(int_list)\n",
        "median_value = calculate_median(int_list)\n",
        "\n",
        "print(\"Mean:\", mean_value)\n",
        "print(\"Median:\", median_value)\n",
        "\n",
        "# (ii) Compute the Mode\n",
        "def calculate_mode(numbers):\n",
        "    try:\n",
        "        return stats.mode(numbers)\n",
        "    except stats.StatisticsError:\n",
        "        return None\n",
        "\n",
        "mode_value = calculate_mode(int_list)\n",
        "print(\"Mode:\", mode_value)\n",
        "\n",
        "# (iii) Calculate the Weighted Mean\n",
        "def calculate_weighted_mean(values, weights):\n",
        "    return np.average(values, weights=weights)\n",
        "\n",
        "values = np.random.randint(90, 131, size=100)\n",
        "weights = np.random.randint(1, 10, size=100)\n",
        "\n",
        "weighted_mean_value = calculate_weighted_mean(values, weights)\n",
        "print(\"Weighted Mean:\", weighted_mean_value)\n",
        "\n",
        "# (iv) Find the Geometric Mean\n",
        "def calculate_geometric_mean(numbers):\n",
        "    return stats.geometric_mean(numbers)\n",
        "\n",
        "geometric_mean_value = calculate_geometric_mean(int_list)\n",
        "print(\"Geometric Mean:\", geometric_mean_value)\n",
        "\n",
        "# (v) Calculate the Harmonic Mean\n",
        "def calculate_harmonic_mean(numbers):\n",
        "    return stats.harmonic_mean(numbers)\n",
        "\n",
        "harmonic_mean_value = calculate_harmonic_mean(int_list)\n",
        "print(\"Harmonic Mean:\", harmonic_mean_value)\n",
        "\n",
        "# (vi) Determine the Midrange\n",
        "def calculate_midrange(numbers):\n",
        "    return (np.min(numbers) + np.max(numbers)) / 2\n",
        "\n",
        "midrange_value = calculate_midrange(int_list)\n",
        "print(\"Midrange:\", midrange_value)\n",
        "\n",
        "# (vii) Find the Trimmed Mean\n",
        "def calculate_trimmed_mean(numbers, trim_percentage):\n",
        "    trim_amount = int(len(numbers) * trim_percentage)\n",
        "    sorted_numbers = sorted(numbers)\n",
        "    trimmed_numbers = sorted_numbers[trim_amount:-trim_amount]\n",
        "    return np.mean(trimmed_numbers)\n",
        "\n",
        "# Trim 10% from each end\n",
        "trimmed_mean_value = calculate_trimmed_mean(int_list, 0.1)\n",
        "print(\"Trimmed Mean:\", trimmed_mean_value)\n"
      ],
      "metadata": {
        "colab": {
          "base_uri": "https://localhost:8080/"
        },
        "id": "v_SK7hQ5i79e",
        "outputId": "f049b8a9-e3b0-4e97-d34c-6889acd18154"
      },
      "execution_count": 30,
      "outputs": [
        {
          "output_type": "stream",
          "name": "stdout",
          "text": [
            "Generated list: [125, 101, 118, 124, 90, 90, 126, 95, 128, 130, 107, 105, 94, 121, 91, 91, 129, 125, 128, 101, 108, 117, 90, 104, 125, 102, 110, 101, 94, 96, 94, 93, 102, 126, 130, 104, 105, 110, 125, 113, 105, 103, 111, 95, 125, 90, 121, 95, 120, 90, 126, 124, 119, 93, 124, 103, 129, 111, 99, 90, 100, 113, 92, 124, 125, 120, 93, 108, 125, 110, 107, 117, 104, 91, 126, 100, 112, 130, 101, 92, 106, 122, 90, 128, 109, 130, 103, 120, 114, 92, 93, 120, 124, 103, 130, 98, 109, 121, 98, 116]\n",
            "Mean: 109.57\n",
            "Median: 108.5\n",
            "Mode: 125\n",
            "Weighted Mean: 110.94015444015444\n",
            "Geometric Mean: 108.76169500079978\n",
            "Harmonic Mean: 107.9541774973968\n",
            "Midrange: 110.0\n",
            "Trimmed Mean: 109.525\n"
          ]
        }
      ]
    },
    {
      "cell_type": "markdown",
      "source": [
        "**Code Execution Explanation=> **\n",
        "\n",
        "This program generates a list of 100 random integers between 90 and 130 and then calculates various statistical measures. The mean and median are calculated using numpy functions, while the mode is found using the statistics module. The weighted mean is computed by generating random values and weights and using numpy's average function with weights. The geometric mean and harmonic mean are determined using the statistics module. The midrange is calculated as the average of the minimum and maximum values in the list. Finally, the trimmed mean is computed by removing a specified percentage of the smallest and largest values before calculating the mean with numpy"
      ],
      "metadata": {
        "id": "aJJFf4Lj8mgI"
      }
    },
    {
      "cell_type": "markdown",
      "source": [
        "question 2 =  2. Generate a list of 500 integers containing values between 200 to 300 and store it in the variable `int_list2`.\n",
        "After generating the list, find the following:\n",
        "\n",
        " (i) Compare the given list of visualization for the given data:\n",
        "\n",
        " 1. Frequency & Gaussian distribution\n",
        " 2. Frequency smoothened KDE plot\n",
        " 3. Gaussian distribution & smoothened KDE plot\n",
        "\n",
        "(ii) Write a Python function to calculate the range of a given list of numbers.\n",
        "\n",
        "(iii) Create a program to find the variance and standard deviation of a list of numbers.\n",
        "\n",
        "(iv) Implement a function to compute the interquartile range (IQR) of a list of values.\n",
        "\n",
        "(v) Build a program to calculate the coefficient of variation for a dataset.\n",
        "\n",
        "(vi) Write a Python function to find the mean absolute deviation (MAD) of a list of numbers.\n",
        "\n",
        "(vii) Create a program to calculate the quartile deviation of a list of values.\n",
        "\n",
        "(viii) Implement a function to find the range-based coefficient of dispersion for a dataset.\n"
      ],
      "metadata": {
        "id": "bo77CN-Pjimr"
      }
    },
    {
      "cell_type": "code",
      "source": [
        "import numpy as np\n",
        "import matplotlib.pyplot as plt\n",
        "import seaborn as sns\n",
        "import statistics as stats\n",
        "from scipy.stats import iqr\n",
        "\n",
        "int_list2 = np.random.randint(200, 301, size=500).tolist()\n",
        "print(\"Generated list:\", int_list2)\n",
        "\n",
        "# (i) Compare the given list of visualization for the given data:\n",
        "\n",
        "# 1. Frequency & Gaussian distribution\n",
        "plt.figure(figsize=(10, 5))\n",
        "sns.histplot(int_list2, kde=True, stat=\"density\", label=\"Frequency & Gaussian distribution\")\n",
        "sns.kdeplot(int_list2, color='red', label=\"Gaussian distribution\")\n",
        "plt.legend()\n",
        "plt.show()\n",
        "\n",
        "# 2. Frequency smoothened KDE plot\n",
        "plt.figure(figsize=(10, 5))\n",
        "sns.histplot(int_list2, kde=True, stat=\"density\", label=\"Frequency\")\n",
        "sns.kdeplot(int_list2, color='red', label=\"Smoothened KDE plot\")\n",
        "plt.legend()\n",
        "plt.show()\n",
        "\n",
        "# 3. Gaussian distribution & smoothened KDE plot\n",
        "plt.figure(figsize=(10, 5))\n",
        "sns.kdeplot(int_list2, color='blue', label=\"Gaussian distribution\")\n",
        "sns.kdeplot(int_list2, color='red', label=\"Smoothened KDE plot\")\n",
        "plt.legend()\n",
        "plt.show()\n",
        "\n",
        "# (ii) Write a Python function to calculate the range of a given list of numbers.\n",
        "def calculate_range(numbers):\n",
        "    return np.ptp(numbers)\n",
        "\n",
        "range_value = calculate_range(int_list2)\n",
        "print(\"Range:\", range_value)\n",
        "\n",
        "# (iii) Create a program to find the variance and standard deviation of a list of numbers.\n",
        "variance_value = np.var(int_list2)\n",
        "std_dev_value = np.std(int_list2)\n",
        "print(\"Variance:\", variance_value)\n",
        "print(\"Standard Deviation:\", std_dev_value)\n",
        "\n",
        "# (iv) Implement a function to compute the interquartile range (IQR) of a list of values.\n",
        "def calculate_iqr(numbers):\n",
        "    return iqr(numbers)\n",
        "\n",
        "iqr_value = calculate_iqr(int_list2)\n",
        "print(\"Interquartile Range (IQR):\", iqr_value)\n",
        "\n",
        "# (v) Build a program to calculate the coefficient of variation for a dataset.\n",
        "def calculate_cv(numbers):\n",
        "    mean_value = np.mean(numbers)\n",
        "    std_dev_value = np.std(numbers)\n",
        "    return (std_dev_value / mean_value) * 100\n",
        "\n",
        "cv_value = calculate_cv(int_list2)\n",
        "print(\"Coefficient of Variation (CV):\", cv_value)\n",
        "\n",
        "# (vi) Write a Python function to find the mean absolute deviation (MAD) of a list of numbers.\n",
        "def calculate_mad(numbers):\n",
        "    mean_value = np.mean(numbers)\n",
        "    return np.mean([abs(x - mean_value) for x in numbers])\n",
        "\n",
        "mad_value = calculate_mad(int_list2)\n",
        "print(\"Mean Absolute Deviation (MAD):\", mad_value)\n",
        "\n",
        "# (vii) Create a program to calculate the quartile deviation of a list of values.\n",
        "def calculate_quartile_deviation(numbers):\n",
        "    q1 = np.percentile(numbers, 25)\n",
        "    q3 = np.percentile(numbers, 75)\n",
        "    return (q3 - q1) / 2\n",
        "\n",
        "quartile_deviation_value = calculate_quartile_deviation(int_list2)\n",
        "print(\"Quartile Deviation:\", quartile_deviation_value)\n",
        "\n",
        "# (viii) Implement a function to find the range-based coefficient of dispersion for a dataset.\n",
        "def calculate_cod(numbers):\n",
        "    range_value = np.ptp(numbers)\n",
        "    mean_value = np.mean(numbers)\n",
        "    return (range_value / mean_value) * 100\n",
        "\n",
        "cod_value = calculate_cod(int_list2)\n",
        "print(\"Range-based Coefficient of Dispersion (COD):\", cod_value)\n"
      ],
      "metadata": {
        "colab": {
          "base_uri": "https://localhost:8080/",
          "height": 1000
        },
        "id": "Zo_7MhZPkDYg",
        "outputId": "9651a662-100f-46ea-9f46-dd42fbd0029c"
      },
      "execution_count": 31,
      "outputs": [
        {
          "output_type": "stream",
          "name": "stdout",
          "text": [
            "Generated list: [289, 266, 260, 216, 256, 223, 224, 204, 300, 249, 287, 230, 254, 225, 220, 297, 257, 223, 227, 229, 233, 253, 251, 286, 207, 209, 254, 200, 283, 236, 281, 220, 203, 242, 265, 220, 236, 268, 280, 247, 210, 294, 291, 243, 263, 231, 220, 270, 209, 260, 291, 235, 283, 276, 218, 274, 298, 297, 243, 203, 212, 300, 258, 201, 200, 239, 224, 258, 236, 299, 269, 206, 203, 298, 240, 260, 233, 228, 268, 226, 296, 251, 273, 253, 269, 233, 207, 294, 272, 284, 207, 267, 285, 291, 267, 284, 271, 283, 295, 200, 205, 291, 230, 273, 283, 207, 221, 292, 208, 243, 246, 200, 251, 238, 289, 274, 298, 287, 296, 283, 226, 278, 232, 270, 297, 244, 259, 257, 250, 245, 204, 257, 293, 291, 217, 235, 266, 220, 245, 257, 279, 236, 262, 204, 277, 230, 287, 298, 235, 273, 290, 255, 226, 222, 276, 279, 298, 290, 251, 246, 280, 261, 260, 247, 200, 210, 275, 213, 271, 294, 206, 245, 230, 215, 241, 238, 253, 243, 282, 207, 292, 265, 241, 266, 292, 278, 291, 300, 231, 293, 250, 246, 293, 233, 212, 296, 280, 266, 272, 210, 290, 227, 256, 265, 264, 269, 288, 234, 279, 203, 260, 237, 243, 283, 288, 270, 220, 206, 228, 206, 266, 292, 292, 269, 273, 300, 254, 277, 221, 231, 281, 235, 208, 225, 221, 245, 286, 216, 225, 237, 201, 205, 270, 212, 290, 274, 254, 278, 262, 272, 271, 245, 205, 247, 259, 242, 267, 210, 257, 291, 289, 203, 278, 282, 269, 258, 204, 217, 269, 263, 294, 224, 203, 269, 240, 236, 258, 249, 255, 224, 233, 218, 297, 278, 207, 253, 246, 233, 281, 229, 212, 246, 232, 234, 287, 225, 246, 252, 264, 276, 273, 218, 204, 207, 203, 248, 276, 237, 248, 282, 251, 249, 271, 290, 249, 229, 203, 274, 284, 265, 220, 280, 242, 228, 226, 287, 252, 248, 266, 209, 202, 289, 300, 290, 268, 210, 212, 297, 237, 239, 232, 233, 226, 299, 289, 250, 288, 282, 220, 294, 228, 272, 218, 225, 224, 239, 228, 224, 218, 267, 244, 283, 245, 254, 200, 210, 267, 206, 291, 299, 257, 270, 219, 234, 250, 220, 243, 200, 300, 266, 297, 212, 215, 233, 223, 212, 205, 238, 201, 210, 206, 206, 238, 275, 285, 250, 251, 202, 276, 229, 209, 272, 205, 253, 265, 243, 279, 262, 276, 247, 276, 221, 218, 289, 213, 294, 292, 285, 206, 300, 248, 240, 226, 230, 205, 215, 263, 237, 259, 295, 296, 280, 232, 262, 210, 212, 293, 264, 229, 290, 222, 219, 205, 236, 283, 300, 205, 292, 276, 226, 283, 212, 207, 252, 280, 229, 200, 287, 279, 274, 203, 261, 267, 216, 273, 284, 256, 262, 256, 248, 217, 257, 209, 262, 279, 278, 233, 204, 216, 300, 271, 262, 223, 291, 207, 222, 298, 230, 280, 227, 247, 211, 287, 278, 230, 290, 234, 254, 281, 235]\n"
          ]
        },
        {
          "output_type": "display_data",
          "data": {
            "text/plain": [
              "<Figure size 1000x500 with 1 Axes>"
            ],
            "image/png": "[encoded data removed]"
          },
          "metadata": {}
        },
        {
          "output_type": "display_data",
          "data": {
            "text/plain": [
              "<Figure size 1000x500 with 1 Axes>"
            ],
            "image/png": "[encoded data removed]"
          },
          "metadata": {}
        },
        {
          "output_type": "display_data",
          "data": {
            "text/plain": [
              "<Figure size 1000x500 with 1 Axes>"
            ],
            "image/png": "[encoded data removed]"
          },
          "metadata": {}
        },
        {
          "output_type": "stream",
          "name": "stdout",
          "text": [
            "Range: 100\n",
            "Variance: 906.293424\n",
            "Standard Deviation: 30.1047076717247\n",
            "Interquartile Range (IQR): 53.0\n",
            "Coefficient of Variation (CV): 12.016696073719364\n",
            "Mean Absolute Deviation (MAD): 26.271808\n",
            "Quartile Deviation: 26.5\n",
            "Range-based Coefficient of Dispersion (COD): 39.91633536108317\n"
          ]
        }
      ]
    },
    {
      "cell_type": "markdown",
      "source": [
        "**Code Execution Explanation=>**\n",
        "\n",
        "This program generates a list of 500 random integers between 200 and 300 and calculates various statistical measures and visualizations. First, it uses matplotlib and seaborn to create three visual comparisons: Frequency and Gaussian distribution, Frequency with smoothened KDE plot, and Gaussian distribution with smoothened KDE plot. The range is computed using numpy's np.ptp, which returns the difference between the maximum and minimum values. Variance and standard deviation are calculated using numpy's np.var and np.std, respectively. The interquartile range (IQR) is found using scipy.stats's iqr function. The coefficient of variation (CV) is computed as the ratio of the standard deviation to the mean, expressed as a percentage. The mean absolute deviation (MAD) is calculated by taking the average of the absolute deviations from the mean. Quartile deviation is found by halving the difference between the 75th and 25th percentiles. Finally, the range-based coefficient of dispersion (COD) is calculated as the ratio of the range to the mean, expressed as a percentage. Each measure provides a different insight into the distribution and variability of the data in int_list2."
      ],
      "metadata": {
        "id": "27GR8_Q49d1A"
      }
    },
    {
      "cell_type": "markdown",
      "source": [
        "question 3 =  Write a Python class representing a discrete random variable with methods to calculate its expected\n",
        "value and variance."
      ],
      "metadata": {
        "id": "p0DUlxZSkjMs"
      }
    },
    {
      "cell_type": "code",
      "source": [
        "import numpy as np\n",
        "\n",
        "class DiscreteRandomVariable:\n",
        "    def __init__(self, values, probabilities):\n",
        "        self.values = np.array(values)\n",
        "        self.probabilities = np.array(probabilities)\n",
        "\n",
        "    def expected_value(self):\n",
        "        return np.average(self.values, weights=self.probabilities)\n",
        "\n",
        "    def variance(self):\n",
        "        mean = self.expected_value()\n",
        "        return np.average((self.values - mean) ** 2, weights=self.probabilities)\n",
        "\n",
        "if __name__ == \"__main__\":\n",
        "    values = [1, 2, 3, 4, 5]\n",
        "    probabilities = [0.1, 0.2, 0.3, 0.2, 0.2]\n",
        "\n",
        "    random_variable = DiscreteRandomVariable(values, probabilities)\n",
        "\n",
        "    expected_value = random_variable.expected_value()\n",
        "    variance = random_variable.variance()\n",
        "\n",
        "    print(\"Expected Value (Mean):\", expected_value)\n",
        "    print(\"Variance:\", variance)\n"
      ],
      "metadata": {
        "colab": {
          "base_uri": "https://localhost:8080/"
        },
        "id": "OChF-9UPkqpm",
        "outputId": "a1bd21f9-7695-4448-97a5-d6576523c1fa"
      },
      "execution_count": 32,
      "outputs": [
        {
          "output_type": "stream",
          "name": "stdout",
          "text": [
            "Expected Value (Mean): 3.2\n",
            "Variance: 1.56\n"
          ]
        }
      ]
    },
    {
      "cell_type": "markdown",
      "source": [
        "**Code Execution Explanation=>**\n",
        "\n",
        "This program defines a Python class, DiscreteRandomVariable, that represents a discrete random variable with given values and their associated probabilities. The class has methods to calculate the expected value (mean) and variance of the random variable. The expected_value method computes the weighted average of the values using numpy's np.average with weights being the probabilities. The variance method first calculates the mean using the expected_value method, then computes the average of the squared deviations from the mean, again using the probabilities as weights. An example usage of the class is provided, where a discrete random variable with values [1, 2, 3, 4, 5] and probabilities [0.1, 0.2, 0.3, 0.2, 0.2] is created, and its expected value and variance are printed. This class provides a structured way to handle and compute fundamental statistics for discrete random variables."
      ],
      "metadata": {
        "id": "8CRZdNOr-JP4"
      }
    },
    {
      "cell_type": "markdown",
      "source": [
        "question 4 = Implement a program to simulate the rolling of a fair six-sided die and calculate the expected value and\n",
        "variance of the outcomes."
      ],
      "metadata": {
        "id": "3jjx2Uc-kxYD"
      }
    },
    {
      "cell_type": "code",
      "source": [
        "import numpy as np\n",
        "\n",
        "num_rolls = 10000\n",
        "die_outcomes = np.random.randint(1, 7, size=num_rolls)\n",
        "\n",
        "expected_value = np.mean(die_outcomes)\n",
        "\n",
        "variance = np.var(die_outcomes)\n",
        "print(f\"Number of rolls: {num_rolls}\")\n",
        "print(f\"Expected Value (Mean): {expected_value:.3f}\")\n",
        "print(f\"Variance: {variance:.6f}\")"
      ],
      "metadata": {
        "colab": {
          "base_uri": "https://localhost:8080/"
        },
        "id": "-K9C2FqOk_TQ",
        "outputId": "24d94db5-ea5d-4b3d-92aa-5e7e6b036f24"
      },
      "execution_count": 33,
      "outputs": [
        {
          "output_type": "stream",
          "name": "stdout",
          "text": [
            "Number of rolls: 10000\n",
            "Expected Value (Mean): 3.488\n",
            "Variance: 2.926049\n"
          ]
        }
      ]
    },
    {
      "cell_type": "markdown",
      "source": [
        "**Code Execution Explanation=> **\n",
        "\n",
        "This program simulates rolling a fair six-sided die 10,000 times and calculates the expected value (mean) and variance of the outcomes. The numpy function np.random.randint(1, 7, size=num_rolls) generates an array of random integers between 1 and 6, representing the die rolls. The expected value is computed using np.mean(die_outcomes), which calculates the average of the die outcomes. The variance is calculated using np.var(die_outcomes), which measures the spread of the die outcomes around the mean. The results are printed, showing the number of rolls, the expected value to three decimal places, and the variance to six decimal places. This simulation provides an empirical way to understand the statistical properties of rolling a fair die."
      ],
      "metadata": {
        "id": "lOcVM_Qx-p5J"
      }
    },
    {
      "cell_type": "markdown",
      "source": [
        "question 5 = Create a Python function to generate random samples from a given probability distribution (e.g.,\n",
        "binomial, Poisson) and calculate their mean and variance."
      ],
      "metadata": {
        "id": "dUc9jw7ypCFK"
      }
    },
    {
      "cell_type": "code",
      "source": [
        "import numpy as np\n",
        "\n",
        "def generate_binomial_samples(n, p, size):\n",
        "    samples = np.random.binomial(n, p, size=size)\n",
        "    mean = np.mean(samples)\n",
        "    variance = np.var(samples)\n",
        "    return samples, mean, variance\n",
        "\n",
        "def generate_poisson_samples(rate, size):\n",
        "    samples = np.random.poisson(rate, size=size)\n",
        "    mean = np.mean(samples)\n",
        "    variance = np.var(samples)\n",
        "    return samples, mean, variance\n",
        "\n",
        "n = 10\n",
        "p = 0.5\n",
        "size = 10000\n",
        "\n",
        "binomial_samples, binomial_mean, binomial_variance = generate_binomial_samples(n, p, size)\n",
        "poisson_rate = 2.5\n",
        "\n",
        "poisson_samples, poisson_mean, poisson_variance = generate_poisson_samples(poisson_rate, size)\n",
        "\n",
        "print(f\"Binomial Distribution (n={n}, p={p}):\")\n",
        "print(f\"Generated Samples: {binomial_samples[:10]}...\")\n",
        "print(f\"Mean: {binomial_mean:.3f}\")\n",
        "print(f\"Variance: {binomial_variance:.3f}\\n\")\n",
        "\n",
        "print(f\"Poisson Distribution (rate={poisson_rate}):\")\n",
        "print(f\"Generated Samples: {poisson_samples[:10]}...\")\n",
        "print(f\"Mean: {poisson_mean:.3f}\")\n",
        "print(f\"Variance: {poisson_variance:.3f}\")\n"
      ],
      "metadata": {
        "colab": {
          "base_uri": "https://localhost:8080/"
        },
        "id": "gjoRML79pO5o",
        "outputId": "bb53f30c-bf18-4c48-f458-c2d399e4bc4a"
      },
      "execution_count": 34,
      "outputs": [
        {
          "output_type": "stream",
          "name": "stdout",
          "text": [
            "Binomial Distribution (n=10, p=0.5):\n",
            "Generated Samples: [6 4 7 6 5 5 3 5 5 5]...\n",
            "Mean: 4.963\n",
            "Variance: 2.530\n",
            "\n",
            "Poisson Distribution (rate=2.5):\n",
            "Generated Samples: [2 1 2 2 2 5 2 4 4 5]...\n",
            "Mean: 2.501\n",
            "Variance: 2.448\n"
          ]
        }
      ]
    },
    {
      "cell_type": "markdown",
      "source": [
        "**Code Execution Explanation=> **\n",
        "\n",
        "This program defines functions to generate random samples from binomial and Poisson distributions and calculates their mean and variance. The generate_binomial_samples function takes the number of trials (n), the probability of success (p), and the sample size (size) to generate binomially distributed samples using numpy's np.random.binomial. It then calculates the mean and variance of the samples. The generate_poisson_samples function takes the rate parameter (rate) and the sample size (size) to generate Poisson-distributed samples using numpy's np.random.poisson, also calculating the mean and variance. Both functions return the generated samples, their mean, and variance. Example usage of these functions is provided, generating 10,000 samples for a binomial distribution with n=10 and p=0.5, and a Poisson distribution with rate=2.5. The results, including a preview of the first 10 samples, the mean, and variance, are printed for both distributions. This approach allows for empirical analysis of different probability distributions."
      ],
      "metadata": {
        "id": "Ev1gUsZt_Be0"
      }
    },
    {
      "cell_type": "markdown",
      "source": [
        "question 6 =  Write a Python script to generate random numbers from a Gaussian (normal) distribution and compute\n",
        "the mean, variance, and standard deviation of the samples"
      ],
      "metadata": {
        "id": "OPY0PLL1rKce"
      }
    },
    {
      "cell_type": "code",
      "source": [
        "import numpy as np\n",
        "\n",
        "def generate_gaussian_samples(mean, std_dev, size):\n",
        "    samples = np.random.normal(loc=mean, scale=std_dev, size=size)\n",
        "    return samples\n",
        "\n",
        "\n",
        "def calculate_statistics(samples):\n",
        "    mean = np.mean(samples)\n",
        "    variance = np.var(samples)\n",
        "    std_dev = np.std(samples)\n",
        "    return mean, variance, std_dev\n",
        "\n",
        "\n",
        "mean = 0\n",
        "std_dev = 1\n",
        "num_samples = 10000\n",
        "\n",
        "samples = generate_gaussian_samples(mean, std_dev, num_samples)\n",
        "\n",
        "calculated_mean, calculated_variance, calculated_std_dev = calculate_statistics(samples)\n",
        "\n",
        "print(f\"Number of samples: {num_samples}\")\n",
        "print(f\"Mean: {calculated_mean:.3f}\")\n",
        "print(f\"Variance: {calculated_variance:.3f}\")\n",
        "print(f\"Standard Deviation: {calculated_std_dev:.3f}\")\n"
      ],
      "metadata": {
        "colab": {
          "base_uri": "https://localhost:8080/"
        },
        "id": "fP7Udo25rcwK",
        "outputId": "e75c3819-6040-4bbe-f734-12892771a0df"
      },
      "execution_count": 35,
      "outputs": [
        {
          "output_type": "stream",
          "name": "stdout",
          "text": [
            "Number of samples: 10000\n",
            "Mean: -0.011\n",
            "Variance: 0.986\n",
            "Standard Deviation: 0.993\n"
          ]
        }
      ]
    },
    {
      "cell_type": "markdown",
      "source": [
        "**Code Execution Explanation=> **\n",
        "\n",
        "This script generates random numbers from a Gaussian (normal) distribution and computes the mean, variance, and standard deviation of the samples. The generate_gaussian_samples function uses numpy's np.random.normal to generate samples with a specified mean (loc), standard deviation (scale), and sample size (size). The calculate_statistics function computes the mean, variance, and standard deviation of the samples using numpy functions np.mean, np.var, and np.std, respectively. The script then generates 10,000 samples from a normal distribution with a mean of 0 and a standard deviation of 1. It calculates and prints the mean, variance, and standard deviation of these samples, providing an empirical analysis of the Gaussian distribution.\n",
        "\n",
        "\n",
        "\n",
        "\n",
        "\n",
        "\n"
      ],
      "metadata": {
        "id": "EhExz4TR_Wh2"
      }
    },
    {
      "cell_type": "markdown",
      "source": [
        "question 7 = Use seaborn library to load `tips` dataset. Find the following from the dataset for the columns `total_bill`\n",
        "and `tip`:\n",
        "\n",
        "(i) Write a Python function that calculates their skewness.\n",
        " approximately symmetric.\n",
        "\n",
        "(ii) Create a program that determines whether the columns exhibit positive\n",
        " skewness, negative skewness, or is\n",
        "\n",
        "(iii) Write a function that calculates the covariance between two columns.\n",
        "\n",
        "(iv) Implement a Python program that calculates the Pearson correlation\n",
        " coefficient between two columns.\n",
        "\n",
        "(v) Write a script to visualize the correlation between two specific columns in\n",
        " a Pandas DataFrame using\n",
        " scatter plots."
      ],
      "metadata": {
        "id": "PBHFhmUns9IH"
      }
    },
    {
      "cell_type": "code",
      "source": [
        "import seaborn as sns\n",
        "import pandas as pd\n",
        "import matplotlib.pyplot as plt\n",
        "\n",
        "tips = sns.load_dataset('tips')\n",
        "\n",
        "# (i) Write a Python function that calculates their skewness.\n",
        "def calculate_skewness(column):\n",
        "    return column.skew()\n",
        "\n",
        "\"\"\"\n",
        " (ii) Create a program that determines whether\n",
        "  the columns exhibit positive skewness,\n",
        "  negative skewness, or is approximately symmetric.\n",
        "\"\"\"\n",
        "def determine_skewness(skewness_value):\n",
        "    if skewness_value > 0:\n",
        "        return \"Positive Skewness\"\n",
        "    elif skewness_value < 0:\n",
        "        return \"Negative Skewness\"\n",
        "    else:\n",
        "        return \"Approximately Symmetric\"\n",
        "\n",
        "# (iii) Write a function that calculates the covariance between two columns.\n",
        "def calculate_covariance(column1, column2):\n",
        "    return column1.cov(column2)\n",
        "\n",
        "# (iv) Implement a Python program that calculates the Pearson correlation coefficient between two columns.\n",
        "def calculate_pearson_correlation(column1, column2):\n",
        "    return column1.corr(column2)\n",
        "\n",
        "# Function to visualize correlation using scatter plots\n",
        "def visualize_correlation(dataframe, column1, column2):\n",
        "    sns.scatterplot(data=dataframe, x=column1, y=column2)\n",
        "    plt.title(f\"Scatter plot of {column1} vs {column2}\")\n",
        "    plt.xlabel(column1)\n",
        "    plt.ylabel(column2)\n",
        "    plt.show()\n",
        "\n",
        "# Calculate skewness\n",
        "total_bill_skewness = calculate_skewness(tips['total_bill'])\n",
        "tip_skewness = calculate_skewness(tips['tip'])\n",
        "\n",
        "# Determine skewness type\n",
        "total_bill_skew_type = determine_skewness(total_bill_skewness)\n",
        "tip_skew_type = determine_skewness(tip_skewness)\n",
        "\n",
        "# Calculate covariance\n",
        "covariance = calculate_covariance(tips['total_bill'], tips['tip'])\n",
        "\n",
        "# Calculate Pearson correlation coefficient\n",
        "pearson_correlation = calculate_pearson_correlation(tips['total_bill'], tips['tip'])\n",
        "\n",
        "\n",
        "print(f\"Skewness of total_bill: {total_bill_skewness}\")\n",
        "print(f\"Skewness of tip: {tip_skewness}\")\n",
        "print(f\"Total Bill Skewness Type: {total_bill_skew_type}\")\n",
        "print(f\"Tip Skewness Type: {tip_skew_type}\")\n",
        "print(f\"Covariance between total_bill and tip: {covariance}\")\n",
        "print(f\"Pearson Correlation Coefficient between total_bill and tip: {pearson_correlation}\")\n",
        "\n",
        "# Visualize correlation\n",
        "visualize_correlation(tips, 'total_bill', 'tip')\n"
      ],
      "metadata": {
        "colab": {
          "base_uri": "https://localhost:8080/",
          "height": 583
        },
        "id": "jfYAMKXVtfiV",
        "outputId": "5b0f5fff-75cd-4543-92d2-87009ba839c7"
      },
      "execution_count": 36,
      "outputs": [
        {
          "output_type": "stream",
          "name": "stdout",
          "text": [
            "Skewness of total_bill: 1.1332130376158205\n",
            "Skewness of tip: 1.4654510370979401\n",
            "Total Bill Skewness Type: Positive Skewness\n",
            "Tip Skewness Type: Positive Skewness\n",
            "Covariance between total_bill and tip: 8.323501629224854\n",
            "Pearson Correlation Coefficient between total_bill and tip: 0.6757341092113641\n"
          ]
        },
        {
          "output_type": "display_data",
          "data": {
            "text/plain": [
              "<Figure size 640x480 with 1 Axes>"
            ],
            "image/png": "[encoded data removed]"
          },
          "metadata": {}
        }
      ]
    },
    {
      "cell_type": "markdown",
      "source": [
        "**Code Execution Explanation=> **\n",
        "\n",
        "This script analyzes the total_bill and tip columns from the tips dataset using the seaborn library. It defines functions to compute skewness and determine if the distribution is positively skewed, negatively skewed, or approximately symmetric. It also calculates the covariance between the two columns and the Pearson correlation coefficient to measure their linear relationship. Finally, it visualizes the correlation with a scatter plot, showing how the total_bill and tip are related. The results include skewness values, skewness types, covariance, correlation coefficient, and a scatter plot for visual inspection.\n",
        "\n",
        "\n",
        "\n",
        "\n",
        "\n",
        "\n"
      ],
      "metadata": {
        "id": "MYlGwr4W_ugE"
      }
    },
    {
      "cell_type": "markdown",
      "source": [
        "question 8 = Write a Python function to calculate the probability density function (PDF) of a continuous random\n",
        "variable for a given normal distribution."
      ],
      "metadata": {
        "id": "PNfeU6XxuTap"
      }
    },
    {
      "cell_type": "code",
      "source": [
        "import numpy as np\n",
        "import scipy.stats as stats\n",
        "import matplotlib.pyplot as plt\n",
        "\n",
        "def calculate_normal_pdf(x, mu, sigma):\n",
        "    pdf_value = stats.norm.pdf(x, mu, sigma)\n",
        "    return pdf_value\n",
        "\n",
        "mu = 0\n",
        "sigma = 1\n",
        "x = np.linspace(-5, 5, 100)\n",
        "\n",
        "pdf_values = calculate_normal_pdf(x, mu, sigma)\n",
        "\n",
        "print(f\"PDF values for x = [-5, -4, ..., 4, 5]: {pdf_values}\")\n",
        "\n",
        "plt.plot(x, pdf_values, label=f'Normal Distribution\\n($\\mu$={mu}, $\\sigma$={sigma})')\n",
        "plt.xlabel('x')\n",
        "plt.ylabel('PDF')\n",
        "plt.title('Probability Density Function of a Normal Distribution')\n",
        "plt.legend()\n",
        "plt.grid(True)\n",
        "plt.show()\n"
      ],
      "metadata": {
        "colab": {
          "base_uri": "https://localhost:8080/",
          "height": 933
        },
        "id": "GrmN2tOjudjY",
        "outputId": "a34ca826-bd63-4b10-ed0c-cd91a0e77ff5"
      },
      "execution_count": 37,
      "outputs": [
        {
          "output_type": "stream",
          "name": "stdout",
          "text": [
            "PDF values for x = [-5, -4, ..., 4, 5]: [1.48671951e-06 2.45106104e-06 3.99989037e-06 6.46116639e-06\n",
            " 1.03310066e-05 1.63509589e-05 2.56160812e-05 3.97238224e-05\n",
            " 6.09759040e-05 9.26476353e-05 1.39341123e-04 2.07440309e-04\n",
            " 3.05686225e-04 4.45889725e-04 6.43795498e-04 9.20104770e-04\n",
            " 1.30165384e-03 1.82273110e-03 2.52649578e-03 3.46643792e-03\n",
            " 4.70779076e-03 6.32877643e-03 8.42153448e-03 1.10925548e-02\n",
            " 1.44624148e-02 1.86646099e-02 2.38432745e-02 3.01496139e-02\n",
            " 3.77369231e-02 4.67541424e-02 5.73380051e-02 6.96039584e-02\n",
            " 8.36361772e-02 9.94771388e-02 1.17117360e-01 1.36486009e-01\n",
            " 1.57443188e-01 1.79774665e-01 2.03189836e-01 2.27323506e-01\n",
            " 2.51741947e-01 2.75953371e-01 2.99422683e-01 3.21590023e-01\n",
            " 3.41892294e-01 3.59786558e-01 3.74773979e-01 3.86422853e-01\n",
            " 3.94389234e-01 3.98433802e-01 3.98433802e-01 3.94389234e-01\n",
            " 3.86422853e-01 3.74773979e-01 3.59786558e-01 3.41892294e-01\n",
            " 3.21590023e-01 2.99422683e-01 2.75953371e-01 2.51741947e-01\n",
            " 2.27323506e-01 2.03189836e-01 1.79774665e-01 1.57443188e-01\n",
            " 1.36486009e-01 1.17117360e-01 9.94771388e-02 8.36361772e-02\n",
            " 6.96039584e-02 5.73380051e-02 4.67541424e-02 3.77369231e-02\n",
            " 3.01496139e-02 2.38432745e-02 1.86646099e-02 1.44624148e-02\n",
            " 1.10925548e-02 8.42153448e-03 6.32877643e-03 4.70779076e-03\n",
            " 3.46643792e-03 2.52649578e-03 1.82273110e-03 1.30165384e-03\n",
            " 9.20104770e-04 6.43795498e-04 4.45889725e-04 3.05686225e-04\n",
            " 2.07440309e-04 1.39341123e-04 9.26476353e-05 6.09759040e-05\n",
            " 3.97238224e-05 2.56160812e-05 1.63509589e-05 1.03310066e-05\n",
            " 6.46116639e-06 3.99989037e-06 2.45106104e-06 1.48671951e-06]\n"
          ]
        },
        {
          "output_type": "display_data",
          "data": {
            "text/plain": [
              "<Figure size 640x480 with 1 Axes>"
            ],
            "image/png": "[encoded data removed]"
          },
          "metadata": {}
        }
      ]
    },
    {
      "cell_type": "markdown",
      "source": [
        "**Code Execution Explanation=> **\n",
        "\n",
        "This script calculates and visualizes the Probability Density Function (PDF) of a normal distribution. The calculate_normal_pdf function uses scipy.stats.norm.pdf to compute the PDF for given values x, with a mean (mu) and standard deviation (sigma). It generates a range of x values from -5 to 5, calculates their corresponding PDF values, and prints them. The script then plots these PDF values, showing the normal distribution curve with specified parameters (mu=0 and sigma=1). The plot helps visualize how the probability density varies across the range of x."
      ],
      "metadata": {
        "id": "uCCvKDENAOPK"
      }
    },
    {
      "cell_type": "markdown",
      "source": [
        "question 9 = Create a program to calculate the cumulative distribution function (CDF) of exponential distribution."
      ],
      "metadata": {
        "id": "D8euwBlluuPd"
      }
    },
    {
      "cell_type": "code",
      "source": [
        "import numpy as np\n",
        "import matplotlib.pyplot as plt\n",
        "\n",
        "def compute_exponential_cdf(lambda_param, x):\n",
        "    return 1 - np.exp(-lambda_param * x)\n",
        "\n",
        "\n",
        "lambda_param = 1.0\n",
        "x = np.linspace(0, 10, 100)\n",
        "cdf_values = compute_exponential_cdf(lambda_param, x)\n",
        "\n",
        "plt.plot(x, cdf_values, label=f'Exponential Distribution\\n($\\lambda$={lambda_param})')\n",
        "plt.xlabel('x')\n",
        "plt.ylabel('CDF')\n",
        "plt.title('Cumulative Distribution Function of Exponential Distribution')\n",
        "plt.legend()\n",
        "plt.grid(True)\n",
        "plt.show()\n"
      ],
      "metadata": {
        "colab": {
          "base_uri": "https://localhost:8080/",
          "height": 472
        },
        "id": "h0lADiKlu2oj",
        "outputId": "ac5d32c8-e0c7-4ec8-d497-ad1710f6bcde"
      },
      "execution_count": 38,
      "outputs": [
        {
          "output_type": "display_data",
          "data": {
            "text/plain": [
              "<Figure size 640x480 with 1 Axes>"
            ],
            "image/png": "[encoded data removed]"
          },
          "metadata": {}
        }
      ]
    },
    {
      "cell_type": "markdown",
      "source": [
        "**Code Execution Explanation=> **\n",
        "\n",
        "This script calculates and visualizes the Cumulative Distribution Function (CDF) of an exponential distribution.to compute the CDF values for a given rate parameter (lambda_param) and a range of x values. It generates x values from 0 to 10, computes their corresponding CDF values, and plots these values, showing how the cumulative probability of the exponential distribution changes with increasing x.\n",
        "\n",
        "\n",
        "\n",
        "\n"
      ],
      "metadata": {
        "id": "jH_aGlHxAhMR"
      }
    },
    {
      "cell_type": "markdown",
      "source": [
        "question 10 = Write a Python function to calculate the probability mass function (PMF) of Poisson distribution.\n"
      ],
      "metadata": {
        "id": "QveWClKEvkog"
      }
    },
    {
      "cell_type": "code",
      "source": [
        "import numpy as np\n",
        "from scipy.stats import poisson\n",
        "\n",
        "def calculate_pmf(lam, k):\n",
        "    return poisson.pmf(k, lam)\n",
        "\n",
        "lambda_value = 5\n",
        "events = 3\n",
        "pmf_value = calculate_pmf(lambda_value, events)\n",
        "print(f\"PMF for {events} events with lambda {lambda_value}: {pmf_value:.4f}\")\n"
      ],
      "metadata": {
        "colab": {
          "base_uri": "https://localhost:8080/"
        },
        "id": "JTg8zFkRwAv9",
        "outputId": "a5bcaf0f-33ed-4f53-b83d-f6ac4efec0c6"
      },
      "execution_count": 39,
      "outputs": [
        {
          "output_type": "stream",
          "name": "stdout",
          "text": [
            "PMF for 3 events with lambda 5: 0.1404\n"
          ]
        }
      ]
    },
    {
      "cell_type": "markdown",
      "source": [
        "**Code Execution Explanation=> **\n",
        "\n",
        "This script calculates the Probability Mass Function (PMF) of a Poisson distribution. The calculate_pmf function uses the poisson.pmf method from scipy.stats to compute the PMF for a given rate parameter (lambda_value) and number of events (events). It then prints the PMF value, which represents the probability of observing exactly events occurrences in a Poisson process with a mean rate of lambda_value occurrences.\n",
        "\n",
        "\n",
        "\n",
        "\n",
        "\n",
        "\n",
        "\n"
      ],
      "metadata": {
        "id": "JcJBHmRJDiBa"
      }
    },
    {
      "cell_type": "markdown",
      "source": [
        "question 11 =  A company wants to test if a new website layout leads to a higher conversion rate (percentage of visitors\n",
        "who make a purchase). They collect data from the old and new layouts to compare.\n",
        "\n",
        "\n",
        " To generate the data use the following command:\n",
        " ```python\n",
        " import numpy as np\n",
        " # 50 purchases out of 1000 visitors\n",
        " old_layout = np.array([1] * 50 + [0] * 950)\n",
        " # 70 purchases out of 1000 visitors  \n",
        "new_layout = np.array([1] * 70 + [0] * 930)\n",
        " ```\n",
        " Apply z-test to find which layout is successful"
      ],
      "metadata": {
        "id": "nSRk-e42woDa"
      }
    },
    {
      "cell_type": "code",
      "source": [
        "import numpy as np\n",
        "import statsmodels.api as sm\n",
        "\n",
        "old_layout = np.array([1] * 50 + [0] * 950)\n",
        "new_layout = np.array([1] * 70 + [0] * 930)\n",
        "\n",
        "successes = np.array([old_layout.sum(), new_layout.sum()])\n",
        "nobs = np.array([len(old_layout), len(new_layout)])\n",
        "\n",
        "z_stat, p_value = sm.stats.proportions_ztest(successes, nobs, alternative='larger')\n",
        "\n",
        "print(f\"Z-Statistic: {z_stat:.4f}\")\n",
        "print(f\"P-Value: {p_value:.4f}\")\n",
        "\n",
        "alpha = 0.05\n",
        "if p_value < alpha:\n",
        "    print(\"Reject the null hypothesis: The new layout leads to a higher conversion rate.\")\n",
        "else:\n",
        "    print(\"Fail to reject the null hypothesis: There is no significant difference in conversion rates between the layouts.\")\n"
      ],
      "metadata": {
        "colab": {
          "base_uri": "https://localhost:8080/"
        },
        "id": "0JNcXlpFwvTS",
        "outputId": "35d2ff7b-05fb-48b3-ac31-64c0fd966749"
      },
      "execution_count": 40,
      "outputs": [
        {
          "output_type": "stream",
          "name": "stdout",
          "text": [
            "Z-Statistic: -1.8831\n",
            "P-Value: 0.9702\n",
            "Fail to reject the null hypothesis: There is no significant difference in conversion rates between the layouts.\n"
          ]
        }
      ]
    },
    {
      "cell_type": "markdown",
      "source": [
        "**Code Execution Explanation=> **\n",
        "\n",
        "This script performs a z-test to compare the conversion rates between two website layouts. It uses the sm.stats.proportions_ztest function from the statsmodels library to test whether the new layout has a significantly higher conversion rate than the old layout. The successes array contains the number of purchases for each layout, and the nobs array contains the total number of visitors for each layout. The z-test calculates a z-statistic and p-value to assess if the observed difference in conversion rates is statistically significant. If the p-value is less than the significance level (alpha), the script concludes that the new layout leads to a higher conversion rate."
      ],
      "metadata": {
        "id": "nJeFXYHeEZmd"
      }
    },
    {
      "cell_type": "markdown",
      "source": [
        "question 12 =  A tutoring service claims that its program improves students' exam scores. A sample of students who participated in the program was taken,\n",
        "and their scores before and after the program were recorded.\n",
        "\n",
        " Use the below code to generate samples of respective arrays of marks:\n",
        " ```python\n",
        " before_program = np.array([75, 80, 85, 70, 90, 78, 92, 88, 82, 87])\n",
        " after_program = np.array([80, 85, 90, 80, 92, 80, 95, 90, 85, 88])\n",
        " ```\n",
        " Use z-test to find if the claims made by tutor are true or false"
      ],
      "metadata": {
        "id": "o2BZsFIbw51h"
      }
    },
    {
      "cell_type": "code",
      "source": [
        "import numpy as np\n",
        "from statsmodels.stats.weightstats import ztest\n",
        "\n",
        "before_program = np.array([75, 80, 85, 70, 90, 78, 92, 88, 82, 87])\n",
        "after_program = np.array([80, 85, 90, 80, 92, 80, 95, 90, 85, 88])\n",
        "\n",
        "differences = after_program - before_program\n",
        "\n",
        "z_stat, p_value = ztest(differences, value=0, alternative='larger')\n",
        "\n",
        "print(f\"Z-Statistic: {z_stat:.4f}\")\n",
        "print(f\"P-Value: {p_value:.7f}\")\n",
        "\n",
        "alpha = 0.05\n",
        "if p_value < alpha:\n",
        "    print(\"Reject the null hypothesis: The tutoring program improves exam scores.\")\n",
        "else:\n",
        "    print(\"Fail to reject the null hypothesis: The tutoring program does not significantly improve exam scores.\")\n"
      ],
      "metadata": {
        "colab": {
          "base_uri": "https://localhost:8080/"
        },
        "id": "_UMSmfhBxMcg",
        "outputId": "dc6009e6-24b1-40b2-ac1f-45c6729ec99f"
      },
      "execution_count": 41,
      "outputs": [
        {
          "output_type": "stream",
          "name": "stdout",
          "text": [
            "Z-Statistic: 4.5932\n",
            "P-Value: 0.0000022\n",
            "Reject the null hypothesis: The tutoring program improves exam scores.\n"
          ]
        }
      ]
    },
    {
      "cell_type": "markdown",
      "source": [
        "**Code Execution Explanation=> **\n",
        "\n",
        "This script evaluates whether a tutoring program significantly improves exam scores by applying a one-sample z-test on the differences between scores before and after the program. The ztest function from the statsmodels library calculates the z-statistic and p-value for the differences in scores. The null hypothesis is that there is no improvement (mean difference = 0), while the alternative hypothesis is that there is an improvement (mean difference > 0). If the p-value is less than the significance level (alpha = 0.05), the script concludes that the tutoring program significantly improves exam scores; otherwise, it does not."
      ],
      "metadata": {
        "id": "LTJpIPtTFk7Y"
      }
    },
    {
      "cell_type": "markdown",
      "source": [
        "question 13 = A pharmaceutical company wants to determine if a new drug is effective in reducing blood pressure. They conduct a study and record blood pressure measurements before and after administering the drug.\n",
        "\n",
        " Use the below code to generate samples of respective arrays of blood pressure:\n",
        "\n",
        " ```python\n",
        " before_drug = np.array([145, 150, 140, 135, 155, 160, 152, 148, 130, 138])\n",
        " after_drug = np.array([130, 140, 132, 128, 145, 148, 138, 136, 125, 130])\n",
        " ```\n",
        " Implement z-test to find if the drug really works or not"
      ],
      "metadata": {
        "id": "q7-UQk-vxjUf"
      }
    },
    {
      "cell_type": "code",
      "source": [
        "import numpy as np\n",
        "from statsmodels.stats.weightstats import ztest\n",
        "\n",
        "before_drug = np.array([145, 150, 140, 135, 155, 160, 152, 148, 130, 138])\n",
        "after_drug = np.array([130, 140, 132, 128, 145, 148, 138, 136, 125, 130])\n",
        "\n",
        "differences = before_drug - after_drug\n",
        "\n",
        "z_stat, p_value = ztest(differences, value=0, alternative='larger')\n",
        "\n",
        "print(f\"Z-Statistic: {z_stat:.4f}\")\n",
        "print(f\"P-Value: {p_value:.4f}\")\n",
        "\n",
        "alpha = 0.05\n",
        "if p_value < alpha:\n",
        "    print(\"Reject the null hypothesis: The drug is effective in reducing blood pressure.\")\n",
        "else:\n",
        "    print(\"Fail to reject the null hypothesis: The drug is not significantly effective in reducing blood pressure.\")\n"
      ],
      "metadata": {
        "colab": {
          "base_uri": "https://localhost:8080/"
        },
        "id": "xdvl_-Sxx1ZY",
        "outputId": "f89a7366-c0e5-451b-8759-0047337ecdd4"
      },
      "execution_count": 42,
      "outputs": [
        {
          "output_type": "stream",
          "name": "stdout",
          "text": [
            "Z-Statistic: 10.0499\n",
            "P-Value: 0.0000\n",
            "Reject the null hypothesis: The drug is effective in reducing blood pressure.\n"
          ]
        }
      ]
    },
    {
      "cell_type": "markdown",
      "source": [
        "**Code Execution Explanation=>**\n",
        "\n",
        "This script assesses the effectiveness of a new drug in reducing blood pressure by applying a one-sample z-test to the differences between blood pressure measurements before and after administering the drug. It calculates the z-statistic and p-value using the ztest function from the statsmodels library, with the null hypothesis stating that there is no reduction in blood pressure (mean difference = 0) and the alternative hypothesis suggesting a reduction (mean difference > 0). If the p-value is less than the significance level (alpha = 0.05), the drug is deemed effective in reducing blood pressure; otherwise, it is not significantly effective."
      ],
      "metadata": {
        "id": "KtXyQZm4OSJk"
      }
    },
    {
      "cell_type": "markdown",
      "source": [
        "question 14 =  A customer service department claims that their average response time is less than 5 minutes. A sample of recent customer interactions was taken, and the response times were recorded.\n",
        "\n",
        " Implement the below code to generate the array of response time:\n",
        "\n",
        " ```python\n",
        " response_times = np.array([4.3, 3.8, 5.1, 4.9, 4.7, 4.2, 5.2, 4.5, 4.6, 4.4])\n",
        " ```\n",
        " Implement z-test to find the claims made by customer service department are tru or false."
      ],
      "metadata": {
        "id": "3I7RvRwMyGtI"
      }
    },
    {
      "cell_type": "code",
      "source": [
        "import numpy as np\n",
        "import statsmodels.stats.weightstats as sw\n",
        "\n",
        "\n",
        "response_times = np.array([4.3, 3.8, 5.1, 4.9, 4.7, 4.2, 5.2, 4.5, 4.6, 4.4])\n",
        "\n",
        "mu_0 = 5\n",
        "\n",
        "z_stat, p_value = sw.ztest(response_times, value=mu_0, alternative='smaller')\n",
        "\n",
        "print(f\"Z-Statistic: {z_stat:.4f}\")\n",
        "print(f\"P-Value: {p_value:.4f}\")\n",
        "\n",
        "alpha = 0.05\n",
        "if p_value < alpha:\n",
        "    print(\"Reject the null hypothesis: The average response time is significantly less than 5 minutes.\")\n",
        "else:\n",
        "    print(\"Fail to reject the null hypothesis: There is no significant evidence that the average response time is less than 5 minutes.\")\n"
      ],
      "metadata": {
        "colab": {
          "base_uri": "https://localhost:8080/"
        },
        "id": "k2YY_n7iyXf7",
        "outputId": "61ff1d5c-1bd6-4e92-e043-314539566610"
      },
      "execution_count": 43,
      "outputs": [
        {
          "output_type": "stream",
          "name": "stdout",
          "text": [
            "Z-Statistic: -3.1845\n",
            "P-Value: 0.0007\n",
            "Reject the null hypothesis: The average response time is significantly less than 5 minutes.\n"
          ]
        }
      ]
    },
    {
      "cell_type": "markdown",
      "source": [
        "**Code Execution Explanation=> **\n",
        "\n",
        "This script evaluates whether the average response time of a customer service department is less than 5 minutes by performing a one-sample z-test. The test compares the sample mean of response times to the hypothesized mean of 5 minutes. The ztest function from the statsmodels library is used, with the null hypothesis stating that the average response time is 5 minutes or more and the alternative hypothesis suggesting it is less than 5 minutes. If the p-value is below the significance level (alpha = 0.05), the null hypothesis is rejected, supporting the claim that the average response time is significantly less than 5 minutes. Otherwise, there is insufficient evidence to support the claim."
      ],
      "metadata": {
        "id": "qAhOrNVUOqxt"
      }
    },
    {
      "cell_type": "markdown",
      "source": [
        "question 15 = A company is testing two different website layouts to see which one leads to higher click-through rates. Write a Python function to perform an A/B test analysis, including calculating the t-statistic, degrees of freedom, and p-value.\n",
        "\n",
        " Use the following data:\n",
        "\n",
        " ```python\n",
        " layout_a_clicks = [28, 32, 33, 29, 31, 34, 30, 35, 36, 37]\n",
        " layout_b_clicks = [40, 41, 38, 42, 39, 44, 43, 41, 45, 47]\n",
        ""
      ],
      "metadata": {
        "id": "Qe-KASpEzFNL"
      }
    },
    {
      "cell_type": "code",
      "source": [
        "import numpy as np\n",
        "from scipy import stats\n",
        "\n",
        "layout_a_clicks = [28, 32, 33, 29, 31, 34, 30, 35, 36, 37]\n",
        "layout_b_clicks = [40, 41, 38, 42, 39, 44, 43, 41, 45, 47]\n",
        "\n",
        "t_stat, p_value = stats.ttest_ind(layout_a_clicks, layout_b_clicks, equal_var=False)  # Assume unequal variance\n",
        "\n",
        "print(f\"T-Statistic: {t_stat:.4f}\")\n",
        "print(f\"P-Value: {p_value:.6f}\")\n",
        "\n",
        "alpha = 0.05\n",
        "if p_value < alpha:\n",
        "    print(\"Reject the null hypothesis: There is a significant difference in click-through rates between the two layouts.\")\n",
        "else:\n",
        "    print(\"Fail to reject the null hypothesis: There is no significant difference in click-through rates between the two layouts.\")\n"
      ],
      "metadata": {
        "colab": {
          "base_uri": "https://localhost:8080/"
        },
        "id": "S8Jb_6n8zgb9",
        "outputId": "0795290e-ec61-4409-a766-ebdc0df48520"
      },
      "execution_count": 44,
      "outputs": [
        {
          "output_type": "stream",
          "name": "stdout",
          "text": [
            "T-Statistic: -7.2981\n",
            "P-Value: 0.000001\n",
            "Reject the null hypothesis: There is a significant difference in click-through rates between the two layouts.\n"
          ]
        }
      ]
    },
    {
      "cell_type": "markdown",
      "source": [
        "**Code Execution Explanation=> **\n",
        "\n",
        "This Python function performs an A/B test analysis to compare the click-through rates of two website layouts. It calculates the t-statistic, degrees of freedom, and p-value to determine if there is a significant difference in click-through rates between the two layouts. Using the ttest_ind function from the scipy library, it assumes unequal variances between the two groups. If the p-value is below the significance level (alpha = 0.05), the null hypothesis (no difference in click-through rates) is rejected, indicating a significant difference between the layouts. Otherwise, there is no significant evidence of a difference."
      ],
      "metadata": {
        "id": "Io2Z-7sQO-gO"
      }
    },
    {
      "cell_type": "markdown",
      "source": [
        "question 16 =  A pharmaceutical company wants to determine if a new drug is more effective than an existing drug in reducing cholesterol levels. Create a program to analyze the clinical trial data and calculate the t statistic and p-value for the treatment effect.\n",
        "\n",
        " Use the following data of cholestrol level:\n",
        "\n",
        " ```python\n",
        " existing_drug_levels = [180, 182, 175, 185, 178, 176, 172, 184, 179, 183]\n",
        " new_drug_levels = [170, 172, 165, 168, 175, 173, 170, 178, 172, 176]\n",
        " ```"
      ],
      "metadata": {
        "id": "pRX26Gayz27Z"
      }
    },
    {
      "cell_type": "markdown",
      "source": [
        "I included additional statistics, such as the mean and standard deviation, which were not required by the question."
      ],
      "metadata": {
        "id": "m0J1hKJ800EJ"
      }
    },
    {
      "cell_type": "code",
      "source": [
        "import numpy as np\n",
        "from scipy import stats\n",
        "\n",
        "\n",
        "existing_drug_levels = np.array([180, 182, 175, 185, 178, 176, 172, 184, 179, 183])\n",
        "new_drug_levels = np.array([170, 172, 165, 168, 175, 173, 170, 178, 172, 176])\n",
        "\n",
        "\n",
        "mean_existing = np.mean(existing_drug_levels)\n",
        "mean_new = np.mean(new_drug_levels)\n",
        "std_existing = np.std(existing_drug_levels, ddof=1)\n",
        "std_new = np.std(new_drug_levels, ddof=1)\n",
        "n_existing = len(existing_drug_levels)\n",
        "n_new = len(new_drug_levels)\n",
        "\n",
        "t_stat, p_value = stats.ttest_ind(new_drug_levels, existing_drug_levels, alternative='less')\n",
        "\n",
        "\n",
        "print(f\"Mean of Existing Drug: {mean_existing:.2f}\")\n",
        "print(f\"Mean of New Drug: {mean_new:.2f}\")\n",
        "print(f\"Standard Deviation of Existing Drug: {std_existing:.2f}\")\n",
        "print(f\"Standard Deviation of New Drug: {std_new:.2f}\")\n",
        "print(f\"T-Statistic: {t_stat:.4f}\")\n",
        "print(f\"P-Value: {p_value:.6f}\")\n",
        "\n",
        "alpha = 0.05\n",
        "if p_value < alpha:\n",
        "    print(\"Reject the null hypothesis: The new drug significantly reduces cholesterol levels more than the existing drug.\")\n",
        "else:\n",
        "    print(\"Fail to reject the null hypothesis: There is no significant evidence that the new drug reduces cholesterol levels more than the existing drug.\")\n"
      ],
      "metadata": {
        "colab": {
          "base_uri": "https://localhost:8080/"
        },
        "id": "nJNB-PP_0EAy",
        "outputId": "2865cf80-95c8-4d1c-90d2-044efcd1a568"
      },
      "execution_count": 45,
      "outputs": [
        {
          "output_type": "stream",
          "name": "stdout",
          "text": [
            "Mean of Existing Drug: 179.40\n",
            "Mean of New Drug: 171.90\n",
            "Standard Deviation of Existing Drug: 4.22\n",
            "Standard Deviation of New Drug: 3.87\n",
            "T-Statistic: -4.1405\n",
            "P-Value: 0.000307\n",
            "Reject the null hypothesis: The new drug significantly reduces cholesterol levels more than the existing drug.\n"
          ]
        }
      ]
    },
    {
      "cell_type": "markdown",
      "source": [
        "**Code Execution Explanation=> **\n",
        "\n",
        "This program analyzes clinical trial data to determine if a new drug is more effective than an existing drug in reducing cholesterol levels. It calculates the t-statistic and p-value to assess the treatment effect. Using the ttest_ind function from the scipy library, the program compares the cholesterol levels of patients using the new drug versus those using the existing drug, assuming unequal variances. If the p-value is less than the significance level (alpha = 0.05), it indicates that the new drug significantly reduces cholesterol levels more than the existing drug. Otherwise, there is no significant evidence of a difference."
      ],
      "metadata": {
        "id": "-egeXa84Pq7U"
      }
    },
    {
      "cell_type": "markdown",
      "source": [
        "question 17 =  A school district introduces an educational intervention program to improve math scores. Write a Python function to analyze pre- and post-intervention test scores, calculating the t-statistic and p-value to\n",
        "determine if the intervention had a significant impact.\n",
        "\n",
        " Use the following data of test score:\n",
        "\n",
        " ```python\n",
        " pre_intervention_scores = [80, 85, 90, 75, 88, 82, 92, 78, 85, 87]\n",
        " post_intervention_scores = [90, 92, 88, 92, 95, 91, 96, 93, 89, 93]\n",
        " ```"
      ],
      "metadata": {
        "id": "l4m4Ftdv1n5M"
      }
    },
    {
      "cell_type": "code",
      "source": [
        "import numpy as np\n",
        "from scipy import stats\n",
        "\n",
        "\n",
        "pre_intervention_scores = np.array([80, 85, 90, 75, 88, 82, 92, 78, 85, 87])\n",
        "post_intervention_scores = np.array([90, 92, 88, 92, 95, 91, 96, 93, 89, 93])\n",
        "\n",
        "t_stat, p_value = stats.ttest_rel(post_intervention_scores, pre_intervention_scores)\n",
        "\n",
        "print(f\"T-Statistic: {t_stat:.4f}\")\n",
        "print(f\"P-Value: {p_value:.4f}\")\n",
        "\n",
        "alpha = 0.05\n",
        "if p_value < alpha:\n",
        "    print(\"Reject the null hypothesis: The intervention had a significant impact on math scores.\")\n",
        "else:\n",
        "    print(\"Fail to reject the null hypothesis: There is no significant evidence that the intervention impacted math scores.\")\n"
      ],
      "metadata": {
        "colab": {
          "base_uri": "https://localhost:8080/"
        },
        "id": "2qEYYTyj1_Og",
        "outputId": "36260433-7c10-4839-c6e6-b016fad2c366"
      },
      "execution_count": 46,
      "outputs": [
        {
          "output_type": "stream",
          "name": "stdout",
          "text": [
            "T-Statistic: 4.4284\n",
            "P-Value: 0.0017\n",
            "Reject the null hypothesis: The intervention had a significant impact on math scores.\n"
          ]
        }
      ]
    },
    {
      "cell_type": "markdown",
      "source": [
        "**Code Execution Explanation=>**\n",
        "\n",
        "This Python function analyzes the impact of an educational intervention program by comparing pre- and post-intervention test scores. Using the paired t-test (stats.ttest_rel), the function calculates the t-statistic and p-value to determine if there is a significant difference in test scores before and after the intervention. If the p-value is less than the significance level (alpha = 0.05), it indicates that the intervention had a significant impact on math scores. Otherwise, there is no significant evidence of an effect.\n",
        "\n",
        "\n",
        "\n",
        "\n",
        "\n",
        "\n"
      ],
      "metadata": {
        "id": "5agEM0fkQFk2"
      }
    },
    {
      "cell_type": "markdown",
      "source": [
        "question 18 =  An HR department wants to investigate if there's a gender-based salary gap within the company. Develop a program to analyze salary data, calculate the t-statistic, and determine if there's a statistically\n",
        "significant difference between the average salaries of male and female employees.\n",
        "\n",
        "Use the below code to generate synthetic data:\n",
        "\n",
        " ```python\n",
        " # Generate synthetic salary data for male and female employees\n",
        " np.random.seed(0)  # For reproducibility\n",
        " male_salaries = np.random.normal(loc=50000, scale=10000, size=20)\n",
        " female_salaries = np.random.normal(loc=55000, scale=9000, size=20)\n",
        " ```"
      ],
      "metadata": {
        "id": "mZbUfrI22kcr"
      }
    },
    {
      "cell_type": "code",
      "source": [
        "import numpy as np\n",
        "from scipy import stats\n",
        "\n",
        "\n",
        "np.random.seed(0)\n",
        "male_salaries = np.random.normal(loc=50000, scale=10000, size=20)\n",
        "female_salaries = np.random.normal(loc=55000, scale=9000, size=20)\n",
        "\n",
        "\n",
        "t_stat, p_value = stats.ttest_ind(male_salaries, female_salaries, equal_var=False)\n",
        "\n",
        "print(f\"T-Statistic: {t_stat:.4f}\")\n",
        "print(f\"P-Value: {p_value:.4f}\")\n",
        "\n",
        "alpha = 0.05\n",
        "if p_value < alpha:\n",
        "    print(\"Reject the null hypothesis: There is a significant difference in average salaries between male and female employees.\")\n",
        "else:\n",
        "    print(\"Fail to reject the null hypothesis: There is no significant difference in average salaries between male and female employees.\")\n",
        "\n"
      ],
      "metadata": {
        "colab": {
          "base_uri": "https://localhost:8080/"
        },
        "id": "D_OV197s23KT",
        "outputId": "addb0aa1-eb9d-4b73-b95c-9380a0b75332"
      },
      "execution_count": 47,
      "outputs": [
        {
          "output_type": "stream",
          "name": "stdout",
          "text": [
            "T-Statistic: 0.0611\n",
            "P-Value: 0.9516\n",
            "Fail to reject the null hypothesis: There is no significant difference in average salaries between male and female employees.\n"
          ]
        }
      ]
    },
    {
      "cell_type": "markdown",
      "source": [
        "**Code Execution Explanation=>**\n",
        "\n",
        " This Python program evaluates if there is a significant salary difference between male and female employees using synthetic data. The data is generated with normal distributions for each gender, and a t-test (stats.ttest_ind) is performed to compare the average salaries. The equal_var=False parameter accounts for potential unequal variances. If the p-value is less than 0.05, it indicates a significant difference in salaries; otherwise, there is no significant difference detected."
      ],
      "metadata": {
        "id": "E9EqaKnoQXVn"
      }
    },
    {
      "cell_type": "markdown",
      "source": [
        "question 19 = A manufacturer produces two different versions of a product and wants to compare their quality scores. Create a Python function to analyze quality assessment data, calculate the t-statistic, and decide\n",
        "whether there's a significant difference in quality between the two versions.\n",
        "\n",
        "Use the following data:\n",
        "\n",
        " ```python\n",
        " version1_scores = [85, 88, 82, 89, 87, 84, 90, 88, 85, 86, 91, 83, 87, 84, 89, 86, 84, 88, 85, 86, 89, 90, 87, 88, 85]\n",
        " version2_scores = [80, 78, 83, 81, 79, 82, 76, 80, 78, 81, 77, 82, 80, 79, 82, 79, 80, 81, 79, 82, 79, 78, 80, 81, 82]\n",
        " ```"
      ],
      "metadata": {
        "id": "415JD03f3Bxz"
      }
    },
    {
      "cell_type": "code",
      "source": [
        "import numpy as np\n",
        "from scipy import stats\n",
        "\n",
        "version1_scores = [85, 88, 82, 89, 87, 84, 90, 88, 85, 86, 91, 83, 87, 84, 89, 86, 84, 88, 85, 86, 89, 90, 87, 88, 85]\n",
        "version2_scores = [80, 78, 83, 81, 79, 82, 76, 80, 78, 81, 77, 82, 80, 79, 82, 79, 80, 81, 79, 82, 79, 78, 80, 81, 82]\n",
        "\n",
        "\n",
        "t_stat, p_value = stats.ttest_ind(version1_scores, version2_scores, equal_var=False)\n",
        "\n",
        "print(f\"T-Statistic: {t_stat:.4f}\")\n",
        "print(f\"P-Value: {p_value:.6f}\")\n",
        "\n",
        "\n",
        "alpha = 0.05\n",
        "if p_value < alpha:\n",
        "    print(\"Reject the null hypothesis: There is a significant difference in quality scores between Version 1 and Version 2.\")\n",
        "else:\n",
        "    print(\"Fail to reject the null hypothesis: There is no significant difference in quality scores between Version 1 and Version 2.\")\n"
      ],
      "metadata": {
        "colab": {
          "base_uri": "https://localhost:8080/"
        },
        "id": "_sucxvBq3b08",
        "outputId": "363c16d8-5691-42ff-bfff-fdaa08902b83"
      },
      "execution_count": 48,
      "outputs": [
        {
          "output_type": "stream",
          "name": "stdout",
          "text": [
            "T-Statistic: 11.3258\n",
            "P-Value: 0.000000\n",
            "Reject the null hypothesis: There is a significant difference in quality scores between Version 1 and Version 2.\n"
          ]
        }
      ]
    },
    {
      "cell_type": "markdown",
      "source": [
        "**Code Execution Explanation=> **\n",
        "\n",
        "This Python program compares the quality scores of two product versions using a t-test. The function performs an independent t-test (stats.ttest_ind) on the scores of two versions, assuming unequal variances. If the p-value is less than 0.05, it suggests a significant difference in quality scores between the two versions. Otherwise, there is no significant difference."
      ],
      "metadata": {
        "id": "TBixpWOBQyck"
      }
    },
    {
      "cell_type": "markdown",
      "source": [
        "question 20 =  A restaurant chain collects customer satisfaction scores for two different branches. Write a program to analyze the scores, calculate the t-statistic, and determine if there's a statistically significant difference in\n",
        "customer satisfaction between the branches.\n",
        "\n",
        "Use the below data of scores:\n",
        "\n",
        "\n",
        "\n",
        "```\n",
        "branch_a_scores = [4, 5, 3, 4, 5, 4, 5, 3, 4, 4, 5, 4, 4, 3, 4, 5, 5, 4, 3, 4, 5, 4, 3, 5, 4, 4, 5, 3, 4, 5, 4]\n",
        "branch_b_scores = [3, 4, 2, 3, 4, 3, 4, 2, 3, 3, 4, 3, 3, 2, 3, 4, 4, 3, 2, 3, 4, 3, 2, 4, 3, 3, 4, 2, 3, 4, 3]\n",
        "\n",
        "```\n",
        "\n",
        "\n"
      ],
      "metadata": {
        "id": "tBlmIlLY3kR_"
      }
    },
    {
      "cell_type": "code",
      "source": [
        "import numpy as np\n",
        "from scipy import stats\n",
        "\n",
        "\n",
        "branch_a_scores = [4, 5, 3, 4, 5, 4, 5, 3, 4, 4, 5, 4, 4, 3, 4, 5, 5, 4, 3, 4, 5, 4, 3, 5, 4, 4, 5, 3, 4, 5, 4]\n",
        "branch_b_scores = [3, 4, 2, 3, 4, 3, 4, 2, 3, 3, 4, 3, 3, 2, 3, 4, 4, 3, 2, 3, 4, 3, 2, 4, 3, 3, 4, 2, 3, 4, 3]\n",
        "\n",
        "t_stat, p_value = stats.ttest_ind(branch_a_scores, branch_b_scores, equal_var=False)\n",
        "\n",
        "print(f\"T-Statistic: {t_stat:.4f}\")\n",
        "print(f\"P-Value: {p_value:.6f}\")\n",
        "\n",
        "\n",
        "alpha = 0.05\n",
        "if p_value < alpha:\n",
        "    print(\"Reject the null hypothesis: There is a significant difference in customer satisfaction between the branches.\")\n",
        "else:\n",
        "    print(\"Fail to reject the null hypothesis: There is no significant difference in customer satisfaction between the branches.\")\n"
      ],
      "metadata": {
        "colab": {
          "base_uri": "https://localhost:8080/"
        },
        "id": "vAAJYx6G4jtM",
        "outputId": "6e490b2a-8230-4fd3-d60b-52f870ac0e7b"
      },
      "execution_count": 49,
      "outputs": [
        {
          "output_type": "stream",
          "name": "stdout",
          "text": [
            "T-Statistic: 5.4801\n",
            "P-Value: 0.000001\n",
            "Reject the null hypothesis: There is a significant difference in customer satisfaction between the branches.\n"
          ]
        }
      ]
    },
    {
      "cell_type": "markdown",
      "source": [
        "**Code Execution Explanation=> **\n",
        "\n",
        "The code performs an independent t-test to compare customer satisfaction scores between two restaurant branches, Branch A and Branch B. It uses the scipy.stats.ttest_ind function with the assumption of unequal variances to test if there is a statistically significant difference in average satisfaction scores between the two branches. It calculates the t-statistic and p-value from the test, and then evaluates whether to reject the null hypothesis (which posits no significant difference) based on a significance level of 0.05. If the p-value is below 0.05, it indicates a significant difference in satisfaction scores between the branches; otherwise, there is no significant evidence of a difference.\n",
        "\n",
        "\n",
        "\n",
        "\n",
        "\n",
        "\n"
      ],
      "metadata": {
        "id": "WSsPIIBXRHtf"
      }
    },
    {
      "cell_type": "markdown",
      "source": [
        "question 21 =  A political analyst wants to determine if there is a significant association between age groups and voter preferences (Candidate A or Candidate B). They collect data from a sample of 500 voters and classify them into different age groups and candidate preferences. Perform a Chi-Square test to determine if there is a significant association between age groups and voter preferences.\n",
        "\n",
        "Use the below code to generate data:\n",
        " ```python\n",
        " np.random.seed(0)\n",
        " age_groups = np.random.choice(['18-30', '31-50', '51+', '51+'], size=30)\n",
        " voter_preferences = np.random.choice(['Candidate A', 'Candidate B'], size=30)\n"
      ],
      "metadata": {
        "id": "ybkzkbkx4ulH"
      }
    },
    {
      "cell_type": "code",
      "source": [
        "import numpy as np\n",
        "import pandas as pd\n",
        "from scipy import stats\n",
        "\n",
        "np.random.seed(0)\n",
        "\n",
        "age_groups = np.random.choice(['18-30', '31-50', '51+', '51+'], size=30)\n",
        "voter_preferences = np.random.choice(['Candidate A', 'Candidate B'], size=30)\n",
        "\n",
        "data = {'Age Group': age_groups, 'Voter Preference': voter_preferences}\n",
        "df = pd.DataFrame(data)\n",
        "contingency_table = pd.crosstab(df['Age Group'], df['Voter Preference'])\n",
        "\n",
        "chi2_stat, p_value, dof, expected = stats.chi2_contingency(contingency_table)\n",
        "\n",
        "print(\"Contingency Table:\")\n",
        "print(contingency_table)\n",
        "print(f\"\\nChi-Square Statistic: {chi2_stat:.4f}\")\n",
        "print(f\"P-Value: {p_value:.4f}\")\n",
        "print(f\"Degrees of Freedom: {dof}\")\n",
        "print(\"Expected Frequencies:\")\n",
        "print(expected)\n",
        "\n",
        "alpha = 0.05\n",
        "if p_value < alpha:\n",
        "    print(\"Reject the null hypothesis: There is a significant association between age groups and voter preferences.\")\n",
        "else:\n",
        "    print(\"Fail to reject the null hypothesis: There is no significant association between age groups and voter preferences.\")\n"
      ],
      "metadata": {
        "colab": {
          "base_uri": "https://localhost:8080/"
        },
        "id": "K6GtrgFO4_JS",
        "outputId": "6067bec8-b148-4110-e89b-7455f6837cc7"
      },
      "execution_count": 50,
      "outputs": [
        {
          "output_type": "stream",
          "name": "stdout",
          "text": [
            "Contingency Table:\n",
            "Voter Preference  Candidate A  Candidate B\n",
            "Age Group                                 \n",
            "18-30                       2            6\n",
            "31-50                       4            4\n",
            "51+                         5            9\n",
            "\n",
            "Chi-Square Statistic: 1.0868\n",
            "P-Value: 0.5808\n",
            "Degrees of Freedom: 2\n",
            "Expected Frequencies:\n",
            "[[2.93333333 5.06666667]\n",
            " [2.93333333 5.06666667]\n",
            " [5.13333333 8.86666667]]\n",
            "Fail to reject the null hypothesis: There is no significant association between age groups and voter preferences.\n"
          ]
        }
      ]
    },
    {
      "cell_type": "markdown",
      "source": [
        "**Code Execution Explanation=>**\n",
        "\n",
        " The code performs a Chi-Square test to assess whether there's a significant association between age groups and voter preferences using simulated data. It first generates random data for 30 voters, classifying them into age groups and preferences for two candidates. This data is then organized into a contingency table using pandas.crosstab(). The Chi-Square test is conducted using scipy.stats.chi2_contingency(), which calculates the Chi-Square statistic, p-value, degrees of freedom, and expected frequencies. The p-value is compared to a significance level (alpha) of 0.05. If the p-value is below 0.05, it indicates a significant association between age groups and voter preferences; otherwise, there is no significant association.\n",
        "\n",
        "\n",
        "\n",
        "\n",
        "\n",
        "\n"
      ],
      "metadata": {
        "id": "7-arbP-DSIoE"
      }
    },
    {
      "cell_type": "markdown",
      "source": [
        "question 22 = . A company conducted a customer satisfaction survey to determine if there is a significant relationship between product satisfaction levels (Satisfied, Neutral, Dissatisfied) and the region where customers are\n",
        "located (East, West, North, South). The survey data is summarized in a contingency table. Conduct a ChiSquare test to determine if there is a significant relationship between product satisfaction levels and\n",
        "customer regions.\n",
        "\n",
        " Sample data:\n",
        " ```\n",
        "  #Sample data: Product satisfaction levels (rows) vs. Customer regions (columns)\n",
        " data = np.array([[50, 30, 40, 20], [30, 40, 30, 50], [20, 30, 40, 30]])\n",
        " ```"
      ],
      "metadata": {
        "id": "QMyaKH9r5Ko7"
      }
    },
    {
      "cell_type": "code",
      "source": [
        "import numpy as np\n",
        "from scipy import stats\n",
        "\n",
        "data = np.array([[50, 30, 40, 20], [30, 40, 30, 50], [20, 30, 40, 30]])\n",
        "\n",
        "chi2_stat, p_value, dof, expected = stats.chi2_contingency(data)\n",
        "\n",
        "print(f\"Chi-Square Statistic: {chi2_stat:.4f}\")\n",
        "print(f\"P-Value: {p_value:.4f}\")\n",
        "print(f\"Degrees of Freedom: {dof}\")\n",
        "print(f\"Expected Frequencies:\\n{expected}\")\n",
        "\n",
        "alpha = 0.05\n",
        "if p_value < alpha:\n",
        "    print(\"Reject the null hypothesis: There is a significant relationship between product satisfaction levels and customer regions.\")\n",
        "else:\n",
        "    print(\"Fail to reject the null hypothesis: There is no significant relationship between product satisfaction levels and customer regions.\")\n"
      ],
      "metadata": {
        "colab": {
          "base_uri": "https://localhost:8080/"
        },
        "id": "JMXDpFbi5pTT",
        "outputId": "19b63017-c1f9-4ccb-f9c1-a1d9058e9e12"
      },
      "execution_count": 51,
      "outputs": [
        {
          "output_type": "stream",
          "name": "stdout",
          "text": [
            "Chi-Square Statistic: 27.7771\n",
            "P-Value: 0.0001\n",
            "Degrees of Freedom: 6\n",
            "Expected Frequencies:\n",
            "[[34.14634146 34.14634146 37.56097561 34.14634146]\n",
            " [36.58536585 36.58536585 40.24390244 36.58536585]\n",
            " [29.26829268 29.26829268 32.19512195 29.26829268]]\n",
            "Reject the null hypothesis: There is a significant relationship between product satisfaction levels and customer regions.\n"
          ]
        }
      ]
    },
    {
      "cell_type": "markdown",
      "source": [
        "**Code Execution Explanation=>**\n",
        "\n",
        "he code conducts a Chi-Square test to determine if there's a significant relationship between product satisfaction levels and customer regions based on sample survey data. The data, organized into a contingency table, represents counts of satisfaction levels (Satisfied, Neutral, Dissatisfied) across different customer regions (East, West, North, South). The scipy.stats.chi2_contingency() function calculates the Chi-Square statistic, p-value, degrees of freedom, and expected frequencies. If the p-value is less than the significance level (alpha = 0.05), it indicates a significant relationship between satisfaction levels and regions; otherwise, there is no significant relationship."
      ],
      "metadata": {
        "id": "7MP3a0u3SWni"
      }
    },
    {
      "cell_type": "markdown",
      "source": [
        "question 23= . A company implemented an employee training program to improve job performance (Effective, Neutral, Ineffective). After the training, they collected data from a sample of employees and classified them based\n",
        "on their job performance before and after the training. Perform a Chi-Square test to determine if there is a significant difference between job performance levels before and after the training.\n",
        "\n",
        " Sample data:\n",
        " ```python\n",
        " # Sample data: Job performance levels before (rows) and after (columns) training\n",
        " data = np.array([[50, 30, 20], [30, 40, 30], [20, 30, 40]])\n",
        " ```\n",
        ""
      ],
      "metadata": {
        "id": "1sL3qXxI50_l"
      }
    },
    {
      "cell_type": "code",
      "source": [
        "import numpy as np\n",
        "from scipy.stats import chi2_contingency\n",
        "\n",
        "data = np.array([[50, 30, 20],\n",
        "                 [30, 40, 30],\n",
        "                 [20, 30, 40]])\n",
        "\n",
        "\n",
        "chi2_stat, p_value, dof, expected = chi2_contingency(data)\n",
        "\n",
        "print(f\"Chi-Square Statistic: {chi2_stat:.4f}\")\n",
        "print(f\"P-Value: {p_value:.4f}\")\n",
        "print(f\"Degrees of Freedom: {dof}\")\n",
        "print(\"Expected Frequencies:\")\n",
        "print(expected)\n",
        "\n",
        "alpha = 0.05\n",
        "if p_value < alpha:\n",
        "    print(\"Reject the null hypothesis: There is a significant difference in job performance levels before and after training.\")\n",
        "else:\n",
        "    print(\"Fail to reject the null hypothesis: There is no significant difference in job performance levels before and after training.\")\n"
      ],
      "metadata": {
        "colab": {
          "base_uri": "https://localhost:8080/"
        },
        "id": "-hRpyjmN6P8q",
        "outputId": "2fed6d3b-1afb-44b2-f7b8-9b6fd8ecb850"
      },
      "execution_count": 52,
      "outputs": [
        {
          "output_type": "stream",
          "name": "stdout",
          "text": [
            "Chi-Square Statistic: 22.1617\n",
            "P-Value: 0.0002\n",
            "Degrees of Freedom: 4\n",
            "Expected Frequencies:\n",
            "[[34.48275862 34.48275862 31.03448276]\n",
            " [34.48275862 34.48275862 31.03448276]\n",
            " [31.03448276 31.03448276 27.93103448]]\n",
            "Reject the null hypothesis: There is a significant difference in job performance levels before and after training.\n"
          ]
        }
      ]
    },
    {
      "cell_type": "markdown",
      "source": [
        "**Code Execution Explanation=> **\n",
        "\n",
        "The code performs a Chi-Square test to assess whether there is a significant difference in job performance levels before and after an employee training program. The data is organized into a contingency table with job performance levels (Effective, Neutral, Ineffective) before and after the training. Using chi2_contingency(), the Chi-Square statistic, p-value, degrees of freedom, and expected frequencies are calculated. If the p-value is less than the significance level (alpha = 0.05), it indicates a significant difference in job performance levels due to the training; otherwise, there is no significant difference.\n",
        "\n",
        "\n",
        "\n",
        "\n",
        "\n",
        "\n"
      ],
      "metadata": {
        "id": "pjoAdf5fSrYt"
      }
    },
    {
      "cell_type": "markdown",
      "source": [
        "question 24 = A company produces three different versions of a product: Standard, Premium, and Deluxe. The company wants to determine if there is a significant difference in customer satisfaction scores among the three product versions. They conducted a survey and collected customer satisfaction scores for each version from a random sample of customers. Perform an ANOVA test to determine if there is a significant difference in customer satisfaction scores.\n",
        "\n",
        "Use the following data:\n",
        " ```python\n",
        " # Sample data: Customer satisfaction scores for each product version\n",
        " standard_scores = [80, 85, 90, 78, 88, 82, 92, 78, 85, 87]\n",
        " premium_scores = [90, 92, 88, 92, 95, 91, 96, 93, 89, 93]\n",
        " deluxe_scores = [95, 98, 92, 97, 96, 94, 98, 97, 92, 99]\n",
        " ```\n",
        "\n"
      ],
      "metadata": {
        "id": "s_uvGsOB6blH"
      }
    },
    {
      "cell_type": "code",
      "source": [
        "import numpy as np\n",
        "from scipy import stats\n",
        "\n",
        "\n",
        "standard_scores = [80, 85, 90, 78, 88, 82, 92, 78, 85, 87]\n",
        "premium_scores = [90, 92, 88, 92, 95, 91, 96, 93, 89, 93]\n",
        "deluxe_scores = [95, 98, 92, 97, 96, 94, 98, 97, 92, 99]\n",
        "\n",
        "f_stat, p_value = stats.f_oneway(standard_scores, premium_scores, deluxe_scores)\n",
        "\n",
        "print(f\"F-Statistic: {f_stat:.4f}\")\n",
        "print(f\"P-Value: {p_value:.4f}\")\n",
        "\n",
        "alpha = 0.05\n",
        "if p_value < alpha:\n",
        "    print(\"Reject the null hypothesis: There is a significant difference in customer satisfaction scores among the product versions.\")\n",
        "else:\n",
        "    print(\"Fail to reject the null hypothesis: There is no significant difference in customer satisfaction scores among the product versions.\")\n"
      ],
      "metadata": {
        "colab": {
          "base_uri": "https://localhost:8080/"
        },
        "id": "Xsh4eah569kL",
        "outputId": "6b8e7fb0-7348-49f3-c11c-9970d3a9cdb2"
      },
      "execution_count": 53,
      "outputs": [
        {
          "output_type": "stream",
          "name": "stdout",
          "text": [
            "F-Statistic: 27.0356\n",
            "P-Value: 0.0000\n",
            "Reject the null hypothesis: There is a significant difference in customer satisfaction scores among the product versions.\n"
          ]
        }
      ]
    },
    {
      "cell_type": "markdown",
      "source": [
        "**Code Execution Explanation=>**\n",
        "\n",
        "The code performs an Analysis of Variance (ANOVA) test to determine if there are significant differences in customer satisfaction scores among three product versions: Standard, Premium, and Deluxe. The stats.f_oneway() function computes the F-statistic and p-value by comparing the means of the satisfaction scores across the three versions. If the p-value is less than the significance level (alpha = 0.05), it suggests a significant difference in satisfaction scores between at least two of the product versions. If the p-value is greater than alpha, it indicates no significant difference in customer satisfaction scores among the versions.\n",
        "\n",
        "\n",
        "\n",
        "\n",
        "\n",
        "\n"
      ],
      "metadata": {
        "id": "1NfrikeETFlG"
      }
    },
    {
      "cell_type": "markdown",
      "source": [
        "**I want to extend my heartfelt gratitude to the faculty and staff at PW Skills for their outstanding support and guidance throughout this assignment. Their expertise and encouragement have been crucial in helping me understand and apply statistical methods effectively. I also want to thank the faculty 🙏 for their time and insightful feedback in assessing this assignment. This experience has deepened my understanding of statistical analysis and inspired me to continue exploring this fascinating field. I am excited to apply these skills to real-world problems and further develop my passion for data analysis.**"
      ],
      "metadata": {
        "id": "lWdnBS3JUeEc"
      }
    }
  ]
}